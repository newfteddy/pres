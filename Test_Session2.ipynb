{
 "cells": [
  {
   "cell_type": "markdown",
   "metadata": {
    "slideshow": {
     "slide_type": "slide"
    }
   },
   "source": [
    "# Серия тестов №2:\n",
    "## Тестирование предкластеризации на реальных данных\n",
    "\n",
    "Былы выбраны **10 раз** случайные выборки размером **1 млн**\n",
    "\n",
    "По каждой выборке сделано:\n",
    "    - вычисление предкластеров\n",
    "    - вычисление размеров предкластеров\n",
    "    - построение распределения числа кластеров по размерам\n",
    "\n"
   ]
  },
  {
   "cell_type": "code",
   "execution_count": 2,
   "metadata": {
    "collapsed": false,
    "slideshow": {
     "slide_type": "skip"
    }
   },
   "outputs": [],
   "source": [
    "import redis\n",
    "import math\n",
    "import xml.etree.ElementTree as ET\n",
    "import numpy as np\n",
    "import pandas as pd\n",
    "import re\n",
    "from matplotlib import pyplot as plt\n",
    "import operator\n",
    "%matplotlib inline"
   ]
  },
  {
   "cell_type": "code",
   "execution_count": 3,
   "metadata": {
    "collapsed": false,
    "slideshow": {
     "slide_type": "skip"
    }
   },
   "outputs": [],
   "source": [
    "r = redis.StrictRedis(host='localhost', port=6379, db=0)"
   ]
  },
  {
   "cell_type": "code",
   "execution_count": 28,
   "metadata": {
    "collapsed": false,
    "slideshow": {
     "slide_type": "skip"
    }
   },
   "outputs": [],
   "source": [
    "# Forms preclusters with no intersections\n",
    "def get_preclusters(fromfile, tofile):\n",
    "    marked = []\n",
    "    f = open(fromfile, 'r')\n",
    "    to = open(tofile, 'w+')\n",
    "    flag = 0\n",
    "    i = 0\n",
    "    for line in f:\n",
    "        i+=1\n",
    "        if line[0:2] == 'SE':\n",
    "            tmp = int(line.split()[1])\n",
    "            if tmp in marked:\n",
    "                continue\n",
    "            else:\n",
    "                to.write(line)\n",
    "                flag = 1\n",
    "                continue\n",
    "        if (line[0:7] == 'SecSize'):\n",
    "            to.write(line)\n",
    "            flag = 0\n",
    "            continue\n",
    "        if flag == 1:\n",
    "            tmp1 = int(line.split('\\n')[0])\n",
    "            if tmp1!= tmp:\n",
    "                marked.append(int(line.split('\\n')[0]))\n",
    "            to.write(line)\n",
    "    f.close()\n",
    "    to.close()"
   ]
  },
  {
   "cell_type": "code",
   "execution_count": 5,
   "metadata": {
    "collapsed": true,
    "slideshow": {
     "slide_type": "skip"
    }
   },
   "outputs": [],
   "source": [
    "# Gets real data from redis from a given list of objects' id\n",
    "columns3 = ['author','name']\n",
    "def get_data_from_idset(idlist):\n",
    "    dataset = pd.DataFrame(columns = columns3)\n",
    "    for Id in idlist:\n",
    "        t = r.get('xml:'+str(Id))\n",
    "        root = ET.fromstring(t)\n",
    "        tree = ET.ElementTree()\n",
    "        if len(root[1])<1:\n",
    "            author = 0\n",
    "        else:\n",
    "            author = root[1][0].text\n",
    "        if len(root[0])<1:\n",
    "            name = 0\n",
    "        else:\n",
    "            name = root[0][0].text\n",
    "        tmp = pd.DataFrame([[author,name]],columns = columns3)\n",
    "        dataset = dataset.append(tmp,ignore_index = True)\n",
    "    return dataset\n"
   ]
  },
  {
   "cell_type": "code",
   "execution_count": 29,
   "metadata": {
    "collapsed": false,
    "slideshow": {
     "slide_type": "skip"
    }
   },
   "outputs": [],
   "source": [
    "# Returns a dictionary {'cluster_id': cluster_size}\n",
    "def get_cluster_sizes(txtfile):\n",
    "    f = open(txtfile, 'r')\n",
    "    cluster_sizes = dict()\n",
    "    tmp = []\n",
    "    for line in f:\n",
    "        if line[0:2] == 'SE':\n",
    "            tmp.append(line.split()[1])\n",
    "            continue\n",
    "        if line [0:7] == 'SecSize':\n",
    "            tmp.append(line.split()[1])\n",
    "            cluster_sizes.update({tmp[0]:tmp[1]})\n",
    "            tmp = []\n",
    "            continue\n",
    "    f.close()\n",
    "    return cluster_sizes\n",
    "    \n",
    "# Returns list of ids in a cluster from a cluster's id\n",
    "def get_section(section,txtfile,section_sizes):\n",
    "    f = open(txtfile, 'r')\n",
    "    flag = 0\n",
    "    idlist = []\n",
    "    i = 0\n",
    "    size = int(section_sizes[section])\n",
    "    for line in f:\n",
    "        if line[0:2] == 'SE':\n",
    "            if line.split()[1] == section:\n",
    "                flag = 1\n",
    "                continue\n",
    "        if flag == 1:\n",
    "            idlist.append(line.split('\\n')[0])\n",
    "            i+=1\n",
    "        if (i >= size):\n",
    "            flag = 0\n",
    "            break\n",
    "    f.close()\n",
    "    return get_data_from_idset(idlist)\n",
    "       \n"
   ]
  },
  {
   "cell_type": "code",
   "execution_count": 7,
   "metadata": {
    "collapsed": false,
    "slideshow": {
     "slide_type": "skip"
    }
   },
   "outputs": [],
   "source": [
    "# Plots the sizes of all precluster sizes in a histogram\n",
    "def precluster_sizes_hist(preclusters_file, start, log = False):\n",
    "    section_sizes = get_cluster_sizes(preclusters_file)\n",
    "    sorted_section_sizes = sorted(section_sizes.items(), key=operator.itemgetter(1))\n",
    "    sizes = section_sizes.values()\n",
    "    sizes = map(int, sizes)\n",
    "    n = max(sizes)\n",
    "    if start == 0:\n",
    "        s = 0\n",
    "    else:\n",
    "        s = math.log(start)\n",
    "    if log == True:\n",
    "        bins = np.logspace(s, 2, 10)\n",
    "    else:\n",
    "        bins = 'auto'\n",
    "    plt.figure(figsize = (12,6))\n",
    "    plt.xlabel(\"Cluster sizes\",size = 20)\n",
    "    plt.ylabel(\"Number of clusters\",size = 20)\n",
    "    plt.hist(sizes, bins = bins)\n",
    "    plt.xticks(np.round(np.linspace(start, 100, 20)))\n",
    "    plt.show()"
   ]
  },
  {
   "cell_type": "code",
   "execution_count": 8,
   "metadata": {
    "collapsed": false,
    "slideshow": {
     "slide_type": "skip"
    }
   },
   "outputs": [],
   "source": [
    "def count(stringlist, numbers):\n",
    "    res = 0\n",
    "    for num in numbers:\n",
    "        for item in stringlist:\n",
    "            if item == num:\n",
    "                res+=1\n",
    "    return res"
   ]
  },
  {
   "cell_type": "markdown",
   "metadata": {
    "slideshow": {
     "slide_type": "slide"
    }
   },
   "source": [
    "## Выборка №1\n",
    "Гистограмма размеров кластеров в логарифмическом маштабе:\n",
    "    - всего предкластеров: 768444\n",
    "    - предкластеров с одной записью: 575401 (~75%)\n",
    "    - предкластеров с менее чем 5 записями: 734023 (~90%)"
   ]
  },
  {
   "cell_type": "code",
   "execution_count": 113,
   "metadata": {
    "collapsed": false,
    "slideshow": {
     "slide_type": "-"
    }
   },
   "outputs": [
    {
     "data": {
      "image/png": "[encoded data removed]",
      "text/plain": [
       "<matplotlib.figure.Figure at 0x1036e5950>"
      ]
     },
     "metadata": {},
     "output_type": "display_data"
    }
   ],
   "source": [
    "precluster_sizes_hist('preclusters1.txt', start = 0, log = True)"
   ]
  },
  {
   "cell_type": "markdown",
   "metadata": {
    "slideshow": {
     "slide_type": "subslide"
    }
   },
   "source": [
    "Рассмотрим более подробно хвост распределения\n"
   ]
  },
  {
   "cell_type": "code",
   "execution_count": 138,
   "metadata": {
    "collapsed": false,
    "slideshow": {
     "slide_type": "-"
    }
   },
   "outputs": [
    {
     "data": {
      "image/png": "[encoded data removed]",
      "text/plain": [
       "<matplotlib.figure.Figure at 0x103dd6590>"
      ]
     },
     "metadata": {},
     "output_type": "display_data"
    }
   ],
   "source": [
    "precluster_sizes_hist('preclusters1.txt', start = 2.1, log = True)"
   ]
  },
  {
   "cell_type": "markdown",
   "metadata": {
    "slideshow": {
     "slide_type": "subslide"
    }
   },
   "source": [
    "Максимальные размеры кластеров:"
   ]
  },
  {
   "cell_type": "code",
   "execution_count": 296,
   "metadata": {
    "collapsed": false
   },
   "outputs": [
    {
     "name": "stdout",
     "output_type": "stream",
     "text": [
      "768444\n",
      "[('14464', '99'), ('508118', '99'), ('221304', '99'), ('478511', '99')]\n"
     ]
    }
   ],
   "source": [
    "section_sizes = get_cluster_sizes('preclusters1.txt')\n",
    "sorted_section_sizes = sorted(section_sizes.items(), key=operator.itemgetter(1))\n",
    "print sorted_section_sizes[-5:-1]    \n"
   ]
  },
  {
   "cell_type": "markdown",
   "metadata": {
    "slideshow": {
     "slide_type": "slide"
    }
   },
   "source": [
    "## Выборка №2\n",
    "Гистограмма размеров кластеров в логарифмическом маштабе:\n",
    "    - всего предкластеров: 661467\n",
    "    - предкластеров с одной записью: 342072 (~50%)\n",
    "    - предкластеров с менее чем 5 записями: 532128 (~85%)"
   ]
  },
  {
   "cell_type": "code",
   "execution_count": 139,
   "metadata": {
    "collapsed": false,
    "scrolled": true
   },
   "outputs": [
    {
     "data": {
      "image/png": "[encoded data removed]",
      "text/plain": [
       "<matplotlib.figure.Figure at 0x10338ad10>"
      ]
     },
     "metadata": {},
     "output_type": "display_data"
    }
   ],
   "source": [
    "precluster_sizes_hist('preclusters2.txt', start = 0, log = True)"
   ]
  },
  {
   "cell_type": "markdown",
   "metadata": {
    "slideshow": {
     "slide_type": "subslide"
    }
   },
   "source": [
    "Рассмотрим более подробно хвост распределения"
   ]
  },
  {
   "cell_type": "code",
   "execution_count": 140,
   "metadata": {
    "collapsed": false
   },
   "outputs": [
    {
     "data": {
      "image/png": "[encoded data removed]",
      "text/plain": [
       "<matplotlib.figure.Figure at 0x1036e5dd0>"
      ]
     },
     "metadata": {},
     "output_type": "display_data"
    }
   ],
   "source": [
    "precluster_sizes_hist('preclusters2.txt', start = 2.1, log = True)"
   ]
  },
  {
   "cell_type": "markdown",
   "metadata": {
    "slideshow": {
     "slide_type": "subslide"
    }
   },
   "source": [
    "Максимальные размеры кластеров:"
   ]
  },
  {
   "cell_type": "code",
   "execution_count": 297,
   "metadata": {
    "collapsed": false
   },
   "outputs": [
    {
     "name": "stdout",
     "output_type": "stream",
     "text": [
      "661467\n",
      "[('47992', '993'), ('54530', '993'), ('65116', '995'), ('43317', '998')]\n"
     ]
    }
   ],
   "source": [
    "section_sizes = get_cluster_sizes('preclusters2.txt')\n",
    "sorted_section_sizes = sorted(section_sizes.items(), key=operator.itemgetter(1))\n",
    "print sorted_section_sizes[-5:-1]   "
   ]
  },
  {
   "cell_type": "markdown",
   "metadata": {
    "slideshow": {
     "slide_type": "slide"
    }
   },
   "source": [
    "## Выборка №3\n",
    "Гистограмма размеров кластеров в логарифмическом маштабе:\n",
    "    - всего предкластеров: 662464\n",
    "    - предкластеров с одной записью: 343176 (~50%)\n",
    "    - предкластеров с менее чем 5 записями: 529525 (~80%)"
   ]
  },
  {
   "cell_type": "code",
   "execution_count": 154,
   "metadata": {
    "collapsed": false
   },
   "outputs": [
    {
     "data": {
      "image/png": "[encoded data removed]",
      "text/plain": [
       "<matplotlib.figure.Figure at 0x10abf6fd0>"
      ]
     },
     "metadata": {},
     "output_type": "display_data"
    }
   ],
   "source": [
    "precluster_sizes_hist('preclusters3.txt', start = 0, log = True)"
   ]
  },
  {
   "cell_type": "markdown",
   "metadata": {
    "slideshow": {
     "slide_type": "subslide"
    }
   },
   "source": [
    "Рассмотрим более подробно хвост распределения"
   ]
  },
  {
   "cell_type": "code",
   "execution_count": 155,
   "metadata": {
    "collapsed": false
   },
   "outputs": [
    {
     "data": {
      "image/png": "[encoded data removed]",
      "text/plain": [
       "<matplotlib.figure.Figure at 0x10a171f50>"
      ]
     },
     "metadata": {},
     "output_type": "display_data"
    }
   ],
   "source": [
    "precluster_sizes_hist('preclusters3.txt', start = 2.1, log = True)"
   ]
  },
  {
   "cell_type": "markdown",
   "metadata": {
    "slideshow": {
     "slide_type": "subslide"
    }
   },
   "source": [
    "Максимальные размеры кластеров:"
   ]
  },
  {
   "cell_type": "code",
   "execution_count": 298,
   "metadata": {
    "collapsed": false,
    "slideshow": {
     "slide_type": "-"
    }
   },
   "outputs": [
    {
     "name": "stdout",
     "output_type": "stream",
     "text": [
      "[('185264', '99'), ('77761', '99'), ('424887', '99'), ('726938', '99')]\n",
      "662464\n"
     ]
    }
   ],
   "source": [
    "section_sizes = get_cluster_sizes('preclusters3.txt')\n",
    "sorted_section_sizes = sorted(section_sizes.items(), key=operator.itemgetter(1))\n",
    "print sorted_section_sizes[-5:-1]   "
   ]
  },
  {
   "cell_type": "markdown",
   "metadata": {
    "slideshow": {
     "slide_type": "slide"
    }
   },
   "source": [
    "## Выборка №4\n",
    "Гистограмма размеров кластеров в логарифмическом маштабе:\n",
    "    - всего кластеров: 651953\n",
    "    - предкластеров с одной записью: 336365 (~50%)\n",
    "    - предкластеров с менее чем 5 записями: 553342 (~85%)"
   ]
  },
  {
   "cell_type": "code",
   "execution_count": 158,
   "metadata": {
    "collapsed": false,
    "slideshow": {
     "slide_type": "-"
    }
   },
   "outputs": [
    {
     "data": {
      "image/png": "[encoded data removed]",
      "text/plain": [
       "<matplotlib.figure.Figure at 0x1036e5dd0>"
      ]
     },
     "metadata": {},
     "output_type": "display_data"
    }
   ],
   "source": [
    "precluster_sizes_hist('preclusters4.txt', start = 0, log = True)"
   ]
  },
  {
   "cell_type": "markdown",
   "metadata": {
    "slideshow": {
     "slide_type": "subslide"
    }
   },
   "source": [
    "Максимальные размеры кластеров:"
   ]
  },
  {
   "cell_type": "code",
   "execution_count": 300,
   "metadata": {
    "collapsed": false
   },
   "outputs": [
    {
     "name": "stdout",
     "output_type": "stream",
     "text": [
      "[('365619', '99'), ('237177', '99'), ('115062', '99'), ('207340', '99')]\n"
     ]
    }
   ],
   "source": [
    "section_sizes = get_cluster_sizes('preclusters4.txt')\n",
    "sorted_section_sizes = sorted(section_sizes.items(), key=operator.itemgetter(1))\n",
    "print sorted_section_sizes[-5:-1]"
   ]
  },
  {
   "cell_type": "markdown",
   "metadata": {
    "slideshow": {
     "slide_type": "slide"
    }
   },
   "source": [
    "## Выборка №5\n",
    "Гистограмма размеров кластеров в логарифмическом маштабе:\n",
    "    - всего предкластеров: 656981\n",
    "    - предкластеров с одной записью: 337661 (~50%)\n",
    "    - предкластеров с менее чем 5 записями: 556505 (~85%)"
   ]
  },
  {
   "cell_type": "code",
   "execution_count": 215,
   "metadata": {
    "collapsed": false
   },
   "outputs": [
    {
     "data": {
      "image/png": "[encoded data removed]",
      "text/plain": [
       "<matplotlib.figure.Figure at 0x12b1da090>"
      ]
     },
     "metadata": {},
     "output_type": "display_data"
    }
   ],
   "source": [
    "precluster_sizes_hist('preclusters6.txt', start = 0, log = True)"
   ]
  },
  {
   "cell_type": "code",
   "execution_count": 301,
   "metadata": {
    "collapsed": false,
    "slideshow": {
     "slide_type": "subslide"
    }
   },
   "outputs": [
    {
     "name": "stdout",
     "output_type": "stream",
     "text": [
      "[('588184', '99'), ('103106', '990'), ('101199', '990'), ('99112', '990')]\n"
     ]
    }
   ],
   "source": [
    "section_sizes = get_cluster_sizes('preclusters6.txt')\n",
    "sorted_section_sizes = sorted(section_sizes.items(), key=operator.itemgetter(1))\n",
    "print sorted_section_sizes[-5:-1]"
   ]
  },
  {
   "cell_type": "markdown",
   "metadata": {
    "slideshow": {
     "slide_type": "slide"
    }
   },
   "source": [
    "## Выборка №6\n",
    "Гистограмма размеров кластеров в логарифмическом маштабе:\n",
    "    - всего предкластеров: 656981\n",
    "    - предкластеров с одной записью: 341564 (~35%)\n",
    "    - предкластеров с менее чем 5 записями: 526520 (~55%)"
   ]
  },
  {
   "cell_type": "code",
   "execution_count": 283,
   "metadata": {
    "collapsed": false
   },
   "outputs": [
    {
     "data": {
      "image/png": "[encoded data removed]",
      "text/plain": [
       "<matplotlib.figure.Figure at 0x10a171f50>"
      ]
     },
     "metadata": {},
     "output_type": "display_data"
    }
   ],
   "source": [
    "precluster_sizes_hist('preclusters8.txt', start = 0, log = True)"
   ]
  },
  {
   "cell_type": "markdown",
   "metadata": {
    "slideshow": {
     "slide_type": "subslide"
    }
   },
   "source": [
    "Максимальные размеры кластеров:"
   ]
  },
  {
   "cell_type": "code",
   "execution_count": 295,
   "metadata": {
    "collapsed": false
   },
   "outputs": [
    {
     "name": "stdout",
     "output_type": "stream",
     "text": [
      "[('588184', '99'), ('103106', '990'), ('101199', '990'), ('99112', '990')]\n",
      "656981\n"
     ]
    }
   ],
   "source": [
    "section_sizes = get_cluster_sizes('preclusters8.txt')\n",
    "sorted_section_sizes = sorted(section_sizes.items(), key=operator.itemgetter(1))\n",
    "print sorted_section_sizes[-5:-1]"
   ]
  },
  {
   "cell_type": "code",
   "execution_count": 290,
   "metadata": {
    "collapsed": false,
    "slideshow": {
     "slide_type": "skip"
    }
   },
   "outputs": [
    {
     "name": "stdout",
     "output_type": "stream",
     "text": [
      "556505\n"
     ]
    }
   ],
   "source": [
    "print count(section_sizes.values(),['1','2','3','4','5'])"
   ]
  },
  {
   "cell_type": "markdown",
   "metadata": {
    "slideshow": {
     "slide_type": "slide"
    }
   },
   "source": [
    "### Можем сделать следующие выводы:\n",
    "    - в среднем половина предкластеров размера 1 и не требует дальнейшего рассмотрения\n",
    "    - в среднем большинство (85%) предкластеров небольшого размера и будут обработаны быстро\n",
    "    - кластеров существенного размера менее 5%"
   ]
  },
  {
   "cell_type": "code",
   "execution_count": 232,
   "metadata": {
    "collapsed": true,
    "slideshow": {
     "slide_type": "skip"
    }
   },
   "outputs": [],
   "source": [
    "# Self-explanitory\n",
    "def find_bigrams(string):\n",
    "    bigram_list = []\n",
    "    for i in range(len(string)-1):\n",
    "        bigram_list.append(string[i]+string[i+1])\n",
    "    return bigram_list\n",
    "\n",
    "from sklearn.metrics import jaccard_similarity_score\n",
    "\n",
    "# Jaccard distance between bigramms of string1 and string 2\n",
    "def jaccard_distance(string1, string2):\n",
    "    bi_list1 = find_bigrams(string1)\n",
    "    bi_list2 = find_bigrams(string2)\n",
    "    intersection_cardinality = len(set.intersection(*[set(bi_list1), set(bi_list2)]))\n",
    "    union_cardinality = len(set.union(*[set(bi_list1), set(bi_list2)]))\n",
    "    return intersection_cardinality/float(union_cardinality)"
   ]
  },
  {
   "cell_type": "markdown",
   "metadata": {
    "slideshow": {
     "slide_type": "slide"
    }
   },
   "source": [
    "### Рассмотрим несколько предкластеров подробнее "
   ]
  },
  {
   "cell_type": "code",
   "execution_count": 254,
   "metadata": {
    "collapsed": false
   },
   "outputs": [
    {
     "data": {
      "text/html": [
       "<div>\n",
       "<table border=\"1\" class=\"dataframe\">\n",
       "  <thead>\n",
       "    <tr style=\"text-align: right;\">\n",
       "      <th></th>\n",
       "      <th>author</th>\n",
       "      <th>name</th>\n",
       "    </tr>\n",
       "  </thead>\n",
       "  <tbody>\n",
       "    <tr>\n",
       "      <th>0</th>\n",
       "      <td>Par Jean Michon ...</td>\n",
       "      <td>Contribution experimentale a l'etude de la bio...</td>\n",
       "    </tr>\n",
       "    <tr>\n",
       "      <th>1</th>\n",
       "      <td>Левандо П.П.</td>\n",
       "      <td>Хоровая фактура : Монография / П.П. Левандо</td>\n",
       "    </tr>\n",
       "    <tr>\n",
       "      <th>2</th>\n",
       "      <td>None</td>\n",
       "      <td>О поведении древних христиан во дни воскресные...</td>\n",
       "    </tr>\n",
       "    <tr>\n",
       "      <th>3</th>\n",
       "      <td>Основина Лариса Григорьевна#Шуляков Леонид Вас...</td>\n",
       "      <td>Автомобильные дороги : строительство, ремонт, ...</td>\n",
       "    </tr>\n",
       "    <tr>\n",
       "      <th>4</th>\n",
       "      <td>None</td>\n",
       "      <td>двенадцатого очередного созыва. (Ноябрь 1876 г.)</td>\n",
       "    </tr>\n",
       "    <tr>\n",
       "      <th>5</th>\n",
       "      <td>Котеленец Валерий Степанович</td>\n",
       "      <td>Небесный поединок</td>\n",
       "    </tr>\n",
       "    <tr>\n",
       "      <th>6</th>\n",
       "      <td>None</td>\n",
       "      <td>Семиотика и Авангард : антология / ред.-сост. ...</td>\n",
       "    </tr>\n",
       "    <tr>\n",
       "      <th>7</th>\n",
       "      <td>None</td>\n",
       "      <td>Неизвестная черная книга : [Свидетельства очев...</td>\n",
       "    </tr>\n",
       "    <tr>\n",
       "      <th>8</th>\n",
       "      <td>None</td>\n",
       "      <td>Методическое пособие пропагандисту начального ...</td>\n",
       "    </tr>\n",
       "    <tr>\n",
       "      <th>9</th>\n",
       "      <td>Кручинина Евгения Юрьевна</td>\n",
       "      <td>Эколого-гигиеническая оценка материалов для до...</td>\n",
       "    </tr>\n",
       "    <tr>\n",
       "      <th>10</th>\n",
       "      <td>АН СССР. Центр. экон.-мат. ин-т</td>\n",
       "      <td>Вероятностные модели математической экономики</td>\n",
       "    </tr>\n",
       "    <tr>\n",
       "      <th>11</th>\n",
       "      <td>Моск. геол.-развед. ин-т им. Серго Орджоникидзе</td>\n",
       "      <td>Индукционные зонды с поперечными катушками для...</td>\n",
       "    </tr>\n",
       "    <tr>\n",
       "      <th>12</th>\n",
       "      <td>Таубе Михаил Александрович</td>\n",
       "      <td>История зарождения современного международного...</td>\n",
       "    </tr>\n",
       "  </tbody>\n",
       "</table>\n",
       "</div>"
      ],
      "text/plain": [
       "                                               author  \\\n",
       "0                                 Par Jean Michon ...   \n",
       "1                                        Левандо П.П.   \n",
       "2                                                None   \n",
       "3   Основина Лариса Григорьевна#Шуляков Леонид Вас...   \n",
       "4                                                None   \n",
       "5                        Котеленец Валерий Степанович   \n",
       "6                                                None   \n",
       "7                                                None   \n",
       "8                                                None   \n",
       "9                           Кручинина Евгения Юрьевна   \n",
       "10                    АН СССР. Центр. экон.-мат. ин-т   \n",
       "11    Моск. геол.-развед. ин-т им. Серго Орджоникидзе   \n",
       "12                         Таубе Михаил Александрович   \n",
       "\n",
       "                                                 name  \n",
       "0   Contribution experimentale a l'etude de la bio...  \n",
       "1         Хоровая фактура : Монография / П.П. Левандо  \n",
       "2   О поведении древних христиан во дни воскресные...  \n",
       "3   Автомобильные дороги : строительство, ремонт, ...  \n",
       "4    двенадцатого очередного созыва. (Ноябрь 1876 г.)  \n",
       "5                                   Небесный поединок  \n",
       "6   Семиотика и Авангард : антология / ред.-сост. ...  \n",
       "7   Неизвестная черная книга : [Свидетельства очев...  \n",
       "8   Методическое пособие пропагандисту начального ...  \n",
       "9   Эколого-гигиеническая оценка материалов для до...  \n",
       "10      Вероятностные модели математической экономики  \n",
       "11  Индукционные зонды с поперечными катушками для...  \n",
       "12  История зарождения современного международного...  "
      ]
     },
     "execution_count": 254,
     "metadata": {},
     "output_type": "execute_result"
    }
   ],
   "source": [
    "section_sizes = get_cluster_sizes('preclusters6.txt')\n",
    "ds = get_section('53','preclusters6.txt',section_sizes)\n",
    "ds"
   ]
  },
  {
   "cell_type": "markdown",
   "metadata": {
    "slideshow": {
     "slide_type": "subslide"
    }
   },
   "source": [
    "### Посчитаем меру Жаккара между элементами подкластера"
   ]
  },
  {
   "cell_type": "code",
   "execution_count": 279,
   "metadata": {
    "collapsed": true,
    "slideshow": {
     "slide_type": "skip"
    }
   },
   "outputs": [],
   "source": [
    "def jacc_correlation(stringlist):\n",
    "    l = len(stringlist)\n",
    "    columns1 = []\n",
    "    for i in range(l):\n",
    "        columns1.append(str(i))\n",
    "\n",
    "\n",
    "    dataset = pd.DataFrame(columns = columns1)\n",
    "    for i in range(l):\n",
    "        tmplist = []\n",
    "        for j in range(l):\n",
    "            tmplist.append(jaccard_distance(stringlist[i], stringlist[j]))\n",
    "        tmp = pd.DataFrame([tmplist],columns = columns1)\n",
    "        dataset = dataset.append(tmp,ignore_index = True)\n",
    "    return dataset\n",
    "    \n",
    "\n"
   ]
  },
  {
   "cell_type": "code",
   "execution_count": 273,
   "metadata": {
    "collapsed": false
   },
   "outputs": [
    {
     "data": {
      "text/html": [
       "<div>\n",
       "<table border=\"1\" class=\"dataframe\">\n",
       "  <thead>\n",
       "    <tr style=\"text-align: right;\">\n",
       "      <th></th>\n",
       "      <th>0</th>\n",
       "      <th>1</th>\n",
       "      <th>2</th>\n",
       "      <th>3</th>\n",
       "      <th>4</th>\n",
       "      <th>5</th>\n",
       "      <th>6</th>\n",
       "      <th>7</th>\n",
       "      <th>8</th>\n",
       "      <th>9</th>\n",
       "      <th>10</th>\n",
       "      <th>11</th>\n",
       "      <th>12</th>\n",
       "    </tr>\n",
       "  </thead>\n",
       "  <tbody>\n",
       "    <tr>\n",
       "      <th>0</th>\n",
       "      <td>1.0</td>\n",
       "      <td>0.000000</td>\n",
       "      <td>0.000000</td>\n",
       "      <td>0.000000</td>\n",
       "      <td>0.000000</td>\n",
       "      <td>0.000000</td>\n",
       "      <td>0.000000</td>\n",
       "      <td>0.000000</td>\n",
       "      <td>0.000000</td>\n",
       "      <td>0.000000</td>\n",
       "      <td>0.000000</td>\n",
       "      <td>0.000000</td>\n",
       "      <td>0.000000</td>\n",
       "    </tr>\n",
       "    <tr>\n",
       "      <th>1</th>\n",
       "      <td>0.0</td>\n",
       "      <td>1.000000</td>\n",
       "      <td>0.050000</td>\n",
       "      <td>0.166667</td>\n",
       "      <td>0.051282</td>\n",
       "      <td>0.018868</td>\n",
       "      <td>0.134021</td>\n",
       "      <td>0.090909</td>\n",
       "      <td>0.068493</td>\n",
       "      <td>0.102804</td>\n",
       "      <td>0.041096</td>\n",
       "      <td>0.072727</td>\n",
       "      <td>0.127660</td>\n",
       "    </tr>\n",
       "    <tr>\n",
       "      <th>2</th>\n",
       "      <td>0.0</td>\n",
       "      <td>0.050000</td>\n",
       "      <td>1.000000</td>\n",
       "      <td>0.100917</td>\n",
       "      <td>0.071429</td>\n",
       "      <td>0.107143</td>\n",
       "      <td>0.123810</td>\n",
       "      <td>0.100000</td>\n",
       "      <td>0.214815</td>\n",
       "      <td>0.177570</td>\n",
       "      <td>0.150685</td>\n",
       "      <td>0.188679</td>\n",
       "      <td>0.128713</td>\n",
       "    </tr>\n",
       "    <tr>\n",
       "      <th>3</th>\n",
       "      <td>0.0</td>\n",
       "      <td>0.166667</td>\n",
       "      <td>0.100917</td>\n",
       "      <td>1.000000</td>\n",
       "      <td>0.072727</td>\n",
       "      <td>0.046512</td>\n",
       "      <td>0.237288</td>\n",
       "      <td>0.165714</td>\n",
       "      <td>0.192547</td>\n",
       "      <td>0.193798</td>\n",
       "      <td>0.166667</td>\n",
       "      <td>0.166667</td>\n",
       "      <td>0.126984</td>\n",
       "    </tr>\n",
       "    <tr>\n",
       "      <th>4</th>\n",
       "      <td>0.0</td>\n",
       "      <td>0.051282</td>\n",
       "      <td>0.071429</td>\n",
       "      <td>0.072727</td>\n",
       "      <td>1.000000</td>\n",
       "      <td>0.034483</td>\n",
       "      <td>0.084112</td>\n",
       "      <td>0.108280</td>\n",
       "      <td>0.094595</td>\n",
       "      <td>0.097345</td>\n",
       "      <td>0.064935</td>\n",
       "      <td>0.050847</td>\n",
       "      <td>0.178947</td>\n",
       "    </tr>\n",
       "    <tr>\n",
       "      <th>5</th>\n",
       "      <td>0.0</td>\n",
       "      <td>0.018868</td>\n",
       "      <td>0.107143</td>\n",
       "      <td>0.046512</td>\n",
       "      <td>0.034483</td>\n",
       "      <td>1.000000</td>\n",
       "      <td>0.047619</td>\n",
       "      <td>0.028169</td>\n",
       "      <td>0.080645</td>\n",
       "      <td>0.054945</td>\n",
       "      <td>0.080000</td>\n",
       "      <td>0.054945</td>\n",
       "      <td>0.037037</td>\n",
       "    </tr>\n",
       "    <tr>\n",
       "      <th>6</th>\n",
       "      <td>0.0</td>\n",
       "      <td>0.134021</td>\n",
       "      <td>0.123810</td>\n",
       "      <td>0.237288</td>\n",
       "      <td>0.084112</td>\n",
       "      <td>0.047619</td>\n",
       "      <td>1.000000</td>\n",
       "      <td>0.160920</td>\n",
       "      <td>0.172840</td>\n",
       "      <td>0.169231</td>\n",
       "      <td>0.100000</td>\n",
       "      <td>0.142857</td>\n",
       "      <td>0.166667</td>\n",
       "    </tr>\n",
       "    <tr>\n",
       "      <th>7</th>\n",
       "      <td>0.0</td>\n",
       "      <td>0.090909</td>\n",
       "      <td>0.100000</td>\n",
       "      <td>0.165714</td>\n",
       "      <td>0.108280</td>\n",
       "      <td>0.028169</td>\n",
       "      <td>0.160920</td>\n",
       "      <td>1.000000</td>\n",
       "      <td>0.192308</td>\n",
       "      <td>0.173184</td>\n",
       "      <td>0.105263</td>\n",
       "      <td>0.147541</td>\n",
       "      <td>0.151163</td>\n",
       "    </tr>\n",
       "    <tr>\n",
       "      <th>8</th>\n",
       "      <td>0.0</td>\n",
       "      <td>0.068493</td>\n",
       "      <td>0.214815</td>\n",
       "      <td>0.192547</td>\n",
       "      <td>0.094595</td>\n",
       "      <td>0.080645</td>\n",
       "      <td>0.172840</td>\n",
       "      <td>0.192308</td>\n",
       "      <td>1.000000</td>\n",
       "      <td>0.320000</td>\n",
       "      <td>0.209302</td>\n",
       "      <td>0.237500</td>\n",
       "      <td>0.207792</td>\n",
       "    </tr>\n",
       "    <tr>\n",
       "      <th>9</th>\n",
       "      <td>0.0</td>\n",
       "      <td>0.102804</td>\n",
       "      <td>0.177570</td>\n",
       "      <td>0.193798</td>\n",
       "      <td>0.097345</td>\n",
       "      <td>0.054945</td>\n",
       "      <td>0.169231</td>\n",
       "      <td>0.173184</td>\n",
       "      <td>0.320000</td>\n",
       "      <td>1.000000</td>\n",
       "      <td>0.180000</td>\n",
       "      <td>0.221374</td>\n",
       "      <td>0.223140</td>\n",
       "    </tr>\n",
       "    <tr>\n",
       "      <th>10</th>\n",
       "      <td>0.0</td>\n",
       "      <td>0.041096</td>\n",
       "      <td>0.150685</td>\n",
       "      <td>0.166667</td>\n",
       "      <td>0.064935</td>\n",
       "      <td>0.080000</td>\n",
       "      <td>0.100000</td>\n",
       "      <td>0.105263</td>\n",
       "      <td>0.209302</td>\n",
       "      <td>0.180000</td>\n",
       "      <td>1.000000</td>\n",
       "      <td>0.180000</td>\n",
       "      <td>0.104167</td>\n",
       "    </tr>\n",
       "    <tr>\n",
       "      <th>11</th>\n",
       "      <td>0.0</td>\n",
       "      <td>0.072727</td>\n",
       "      <td>0.188679</td>\n",
       "      <td>0.166667</td>\n",
       "      <td>0.050847</td>\n",
       "      <td>0.054945</td>\n",
       "      <td>0.142857</td>\n",
       "      <td>0.147541</td>\n",
       "      <td>0.237500</td>\n",
       "      <td>0.221374</td>\n",
       "      <td>0.180000</td>\n",
       "      <td>1.000000</td>\n",
       "      <td>0.147287</td>\n",
       "    </tr>\n",
       "    <tr>\n",
       "      <th>12</th>\n",
       "      <td>0.0</td>\n",
       "      <td>0.127660</td>\n",
       "      <td>0.128713</td>\n",
       "      <td>0.126984</td>\n",
       "      <td>0.178947</td>\n",
       "      <td>0.037037</td>\n",
       "      <td>0.166667</td>\n",
       "      <td>0.151163</td>\n",
       "      <td>0.207792</td>\n",
       "      <td>0.223140</td>\n",
       "      <td>0.104167</td>\n",
       "      <td>0.147287</td>\n",
       "      <td>1.000000</td>\n",
       "    </tr>\n",
       "  </tbody>\n",
       "</table>\n",
       "</div>"
      ],
      "text/plain": [
       "      0         1         2         3         4         5         6         7  \\\n",
       "0   1.0  0.000000  0.000000  0.000000  0.000000  0.000000  0.000000  0.000000   \n",
       "1   0.0  1.000000  0.050000  0.166667  0.051282  0.018868  0.134021  0.090909   \n",
       "2   0.0  0.050000  1.000000  0.100917  0.071429  0.107143  0.123810  0.100000   \n",
       "3   0.0  0.166667  0.100917  1.000000  0.072727  0.046512  0.237288  0.165714   \n",
       "4   0.0  0.051282  0.071429  0.072727  1.000000  0.034483  0.084112  0.108280   \n",
       "5   0.0  0.018868  0.107143  0.046512  0.034483  1.000000  0.047619  0.028169   \n",
       "6   0.0  0.134021  0.123810  0.237288  0.084112  0.047619  1.000000  0.160920   \n",
       "7   0.0  0.090909  0.100000  0.165714  0.108280  0.028169  0.160920  1.000000   \n",
       "8   0.0  0.068493  0.214815  0.192547  0.094595  0.080645  0.172840  0.192308   \n",
       "9   0.0  0.102804  0.177570  0.193798  0.097345  0.054945  0.169231  0.173184   \n",
       "10  0.0  0.041096  0.150685  0.166667  0.064935  0.080000  0.100000  0.105263   \n",
       "11  0.0  0.072727  0.188679  0.166667  0.050847  0.054945  0.142857  0.147541   \n",
       "12  0.0  0.127660  0.128713  0.126984  0.178947  0.037037  0.166667  0.151163   \n",
       "\n",
       "           8         9        10        11        12  \n",
       "0   0.000000  0.000000  0.000000  0.000000  0.000000  \n",
       "1   0.068493  0.102804  0.041096  0.072727  0.127660  \n",
       "2   0.214815  0.177570  0.150685  0.188679  0.128713  \n",
       "3   0.192547  0.193798  0.166667  0.166667  0.126984  \n",
       "4   0.094595  0.097345  0.064935  0.050847  0.178947  \n",
       "5   0.080645  0.054945  0.080000  0.054945  0.037037  \n",
       "6   0.172840  0.169231  0.100000  0.142857  0.166667  \n",
       "7   0.192308  0.173184  0.105263  0.147541  0.151163  \n",
       "8   1.000000  0.320000  0.209302  0.237500  0.207792  \n",
       "9   0.320000  1.000000  0.180000  0.221374  0.223140  \n",
       "10  0.209302  0.180000  1.000000  0.180000  0.104167  \n",
       "11  0.237500  0.221374  0.180000  1.000000  0.147287  \n",
       "12  0.207792  0.223140  0.104167  0.147287  1.000000  "
      ]
     },
     "execution_count": 273,
     "metadata": {},
     "output_type": "execute_result"
    }
   ],
   "source": [
    "jacc_correlation(ds['name'])"
   ]
  },
  {
   "cell_type": "markdown",
   "metadata": {
    "slideshow": {
     "slide_type": "subslide"
    }
   },
   "source": [
    "### Еще пример подкластера"
   ]
  },
  {
   "cell_type": "code",
   "execution_count": 274,
   "metadata": {
    "collapsed": false
   },
   "outputs": [
    {
     "data": {
      "text/html": [
       "<div>\n",
       "<table border=\"1\" class=\"dataframe\">\n",
       "  <thead>\n",
       "    <tr style=\"text-align: right;\">\n",
       "      <th></th>\n",
       "      <th>author</th>\n",
       "      <th>name</th>\n",
       "    </tr>\n",
       "  </thead>\n",
       "  <tbody>\n",
       "    <tr>\n",
       "      <th>0</th>\n",
       "      <td>None</td>\n",
       "      <td>№302, Arg.12</td>\n",
       "    </tr>\n",
       "    <tr>\n",
       "      <th>1</th>\n",
       "      <td>None</td>\n",
       "      <td>AIP informacao  A.7 1981, № 4</td>\n",
       "    </tr>\n",
       "    <tr>\n",
       "      <th>2</th>\n",
       "      <td>Кукса Алексей Владимирович</td>\n",
       "      <td>Чугунные сталеразливочные изложницы / А.В. Кукса</td>\n",
       "    </tr>\n",
       "    <tr>\n",
       "      <th>3</th>\n",
       "      <td>Curtius Rufus Quintus</td>\n",
       "      <td>Histoire d'Alexandre le Grand</td>\n",
       "    </tr>\n",
       "    <tr>\n",
       "      <th>4</th>\n",
       "      <td>None</td>\n",
       "      <td>Уголовно-процессуальный кодекс Российской Феде...</td>\n",
       "    </tr>\n",
       "    <tr>\n",
       "      <th>5</th>\n",
       "      <td>None</td>\n",
       "      <td>АНАЛИТИЧЕСКИЕ ВОЗМОЖНОСТИ МЕТОДА ВНУТРЕННЕГО Т...</td>\n",
       "    </tr>\n",
       "    <tr>\n",
       "      <th>6</th>\n",
       "      <td>Минькова Раиса Дмитриевна</td>\n",
       "      <td>Тетрадь для лабораторных работ по физике. 7 класс</td>\n",
       "    </tr>\n",
       "    <tr>\n",
       "      <th>7</th>\n",
       "      <td>Горский с.-х. ин-т</td>\n",
       "      <td>Трудовые ресурсы колхозов горного Дагестана и ...</td>\n",
       "    </tr>\n",
       "    <tr>\n",
       "      <th>8</th>\n",
       "      <td>Кравчук Александр Степанович</td>\n",
       "      <td>Механика контактного взаимодействия тел с круг...</td>\n",
       "    </tr>\n",
       "    <tr>\n",
       "      <th>9</th>\n",
       "      <td>None</td>\n",
       "      <td>Система стандартов по информации, библиотечном...</td>\n",
       "    </tr>\n",
       "  </tbody>\n",
       "</table>\n",
       "</div>"
      ],
      "text/plain": [
       "                         author  \\\n",
       "0                          None   \n",
       "1                          None   \n",
       "2    Кукса Алексей Владимирович   \n",
       "3         Curtius Rufus Quintus   \n",
       "4                          None   \n",
       "5                          None   \n",
       "6     Минькова Раиса Дмитриевна   \n",
       "7            Горский с.-х. ин-т   \n",
       "8  Кравчук Александр Степанович   \n",
       "9                          None   \n",
       "\n",
       "                                                name  \n",
       "0                                       №302, Arg.12  \n",
       "1                      AIP informacao  A.7 1981, № 4  \n",
       "2   Чугунные сталеразливочные изложницы / А.В. Кукса  \n",
       "3                      Histoire d'Alexandre le Grand  \n",
       "4  Уголовно-процессуальный кодекс Российской Феде...  \n",
       "5  АНАЛИТИЧЕСКИЕ ВОЗМОЖНОСТИ МЕТОДА ВНУТРЕННЕГО Т...  \n",
       "6  Тетрадь для лабораторных работ по физике. 7 класс  \n",
       "7  Трудовые ресурсы колхозов горного Дагестана и ...  \n",
       "8  Механика контактного взаимодействия тел с круг...  \n",
       "9  Система стандартов по информации, библиотечном...  "
      ]
     },
     "execution_count": 274,
     "metadata": {},
     "output_type": "execute_result"
    }
   ],
   "source": [
    "section_sizes = get_cluster_sizes('preclusters6.txt')\n",
    "ds = get_section('301591','preclusters6.txt',section_sizes)\n",
    "ds"
   ]
  },
  {
   "cell_type": "markdown",
   "metadata": {
    "slideshow": {
     "slide_type": "subslide"
    }
   },
   "source": [
    "### Посчитаем меру Жаккара между элементами подкластера"
   ]
  },
  {
   "cell_type": "code",
   "execution_count": 280,
   "metadata": {
    "collapsed": false,
    "slideshow": {
     "slide_type": "-"
    }
   },
   "outputs": [
    {
     "data": {
      "text/html": [
       "<div>\n",
       "<table border=\"1\" class=\"dataframe\">\n",
       "  <thead>\n",
       "    <tr style=\"text-align: right;\">\n",
       "      <th></th>\n",
       "      <th>0</th>\n",
       "      <th>1</th>\n",
       "      <th>2</th>\n",
       "      <th>3</th>\n",
       "      <th>4</th>\n",
       "      <th>5</th>\n",
       "      <th>6</th>\n",
       "      <th>7</th>\n",
       "      <th>8</th>\n",
       "      <th>9</th>\n",
       "    </tr>\n",
       "  </thead>\n",
       "  <tbody>\n",
       "    <tr>\n",
       "      <th>0</th>\n",
       "      <td>1.000000</td>\n",
       "      <td>0.054054</td>\n",
       "      <td>0.000000</td>\n",
       "      <td>0.0</td>\n",
       "      <td>0.000000</td>\n",
       "      <td>0.000000</td>\n",
       "      <td>0.000000</td>\n",
       "      <td>0.000000</td>\n",
       "      <td>0.000000</td>\n",
       "      <td>0.015152</td>\n",
       "    </tr>\n",
       "    <tr>\n",
       "      <th>1</th>\n",
       "      <td>0.054054</td>\n",
       "      <td>1.000000</td>\n",
       "      <td>0.000000</td>\n",
       "      <td>0.0</td>\n",
       "      <td>0.006289</td>\n",
       "      <td>0.000000</td>\n",
       "      <td>0.014493</td>\n",
       "      <td>0.000000</td>\n",
       "      <td>0.000000</td>\n",
       "      <td>0.012048</td>\n",
       "    </tr>\n",
       "    <tr>\n",
       "      <th>2</th>\n",
       "      <td>0.000000</td>\n",
       "      <td>0.000000</td>\n",
       "      <td>1.000000</td>\n",
       "      <td>0.0</td>\n",
       "      <td>0.100629</td>\n",
       "      <td>0.026549</td>\n",
       "      <td>0.049383</td>\n",
       "      <td>0.070000</td>\n",
       "      <td>0.076923</td>\n",
       "      <td>0.076087</td>\n",
       "    </tr>\n",
       "    <tr>\n",
       "      <th>3</th>\n",
       "      <td>0.000000</td>\n",
       "      <td>0.000000</td>\n",
       "      <td>0.000000</td>\n",
       "      <td>1.0</td>\n",
       "      <td>0.000000</td>\n",
       "      <td>0.000000</td>\n",
       "      <td>0.000000</td>\n",
       "      <td>0.000000</td>\n",
       "      <td>0.000000</td>\n",
       "      <td>0.000000</td>\n",
       "    </tr>\n",
       "    <tr>\n",
       "      <th>4</th>\n",
       "      <td>0.000000</td>\n",
       "      <td>0.006289</td>\n",
       "      <td>0.100629</td>\n",
       "      <td>0.0</td>\n",
       "      <td>1.000000</td>\n",
       "      <td>0.051282</td>\n",
       "      <td>0.101266</td>\n",
       "      <td>0.146199</td>\n",
       "      <td>0.140244</td>\n",
       "      <td>0.125749</td>\n",
       "    </tr>\n",
       "    <tr>\n",
       "      <th>5</th>\n",
       "      <td>0.000000</td>\n",
       "      <td>0.000000</td>\n",
       "      <td>0.026549</td>\n",
       "      <td>0.0</td>\n",
       "      <td>0.051282</td>\n",
       "      <td>1.000000</td>\n",
       "      <td>0.017699</td>\n",
       "      <td>0.014815</td>\n",
       "      <td>0.007874</td>\n",
       "      <td>0.000000</td>\n",
       "    </tr>\n",
       "    <tr>\n",
       "      <th>6</th>\n",
       "      <td>0.000000</td>\n",
       "      <td>0.014493</td>\n",
       "      <td>0.049383</td>\n",
       "      <td>0.0</td>\n",
       "      <td>0.101266</td>\n",
       "      <td>0.017699</td>\n",
       "      <td>1.000000</td>\n",
       "      <td>0.092784</td>\n",
       "      <td>0.054348</td>\n",
       "      <td>0.101124</td>\n",
       "    </tr>\n",
       "    <tr>\n",
       "      <th>7</th>\n",
       "      <td>0.000000</td>\n",
       "      <td>0.000000</td>\n",
       "      <td>0.070000</td>\n",
       "      <td>0.0</td>\n",
       "      <td>0.146199</td>\n",
       "      <td>0.014815</td>\n",
       "      <td>0.092784</td>\n",
       "      <td>1.000000</td>\n",
       "      <td>0.178218</td>\n",
       "      <td>0.165049</td>\n",
       "    </tr>\n",
       "    <tr>\n",
       "      <th>8</th>\n",
       "      <td>0.000000</td>\n",
       "      <td>0.000000</td>\n",
       "      <td>0.076923</td>\n",
       "      <td>0.0</td>\n",
       "      <td>0.140244</td>\n",
       "      <td>0.007874</td>\n",
       "      <td>0.054348</td>\n",
       "      <td>0.178218</td>\n",
       "      <td>1.000000</td>\n",
       "      <td>0.132653</td>\n",
       "    </tr>\n",
       "    <tr>\n",
       "      <th>9</th>\n",
       "      <td>0.015152</td>\n",
       "      <td>0.012048</td>\n",
       "      <td>0.076087</td>\n",
       "      <td>0.0</td>\n",
       "      <td>0.125749</td>\n",
       "      <td>0.000000</td>\n",
       "      <td>0.101124</td>\n",
       "      <td>0.165049</td>\n",
       "      <td>0.132653</td>\n",
       "      <td>1.000000</td>\n",
       "    </tr>\n",
       "  </tbody>\n",
       "</table>\n",
       "</div>"
      ],
      "text/plain": [
       "          0         1         2    3         4         5         6         7  \\\n",
       "0  1.000000  0.054054  0.000000  0.0  0.000000  0.000000  0.000000  0.000000   \n",
       "1  0.054054  1.000000  0.000000  0.0  0.006289  0.000000  0.014493  0.000000   \n",
       "2  0.000000  0.000000  1.000000  0.0  0.100629  0.026549  0.049383  0.070000   \n",
       "3  0.000000  0.000000  0.000000  1.0  0.000000  0.000000  0.000000  0.000000   \n",
       "4  0.000000  0.006289  0.100629  0.0  1.000000  0.051282  0.101266  0.146199   \n",
       "5  0.000000  0.000000  0.026549  0.0  0.051282  1.000000  0.017699  0.014815   \n",
       "6  0.000000  0.014493  0.049383  0.0  0.101266  0.017699  1.000000  0.092784   \n",
       "7  0.000000  0.000000  0.070000  0.0  0.146199  0.014815  0.092784  1.000000   \n",
       "8  0.000000  0.000000  0.076923  0.0  0.140244  0.007874  0.054348  0.178218   \n",
       "9  0.015152  0.012048  0.076087  0.0  0.125749  0.000000  0.101124  0.165049   \n",
       "\n",
       "          8         9  \n",
       "0  0.000000  0.015152  \n",
       "1  0.000000  0.012048  \n",
       "2  0.076923  0.076087  \n",
       "3  0.000000  0.000000  \n",
       "4  0.140244  0.125749  \n",
       "5  0.007874  0.000000  \n",
       "6  0.054348  0.101124  \n",
       "7  0.178218  0.165049  \n",
       "8  1.000000  0.132653  \n",
       "9  0.132653  1.000000  "
      ]
     },
     "execution_count": 280,
     "metadata": {},
     "output_type": "execute_result"
    }
   ],
   "source": [
    "jacc_correlation(ds['name'])"
   ]
  },
  {
   "cell_type": "markdown",
   "metadata": {
    "slideshow": {
     "slide_type": "slide"
    }
   },
   "source": [
    "### Можем сделать вывод: в некоторых случаях предкластеризация проводится не очень удачно"
   ]
  },
  {
   "cell_type": "markdown",
   "metadata": {
    "slideshow": {
     "slide_type": "slide"
    }
   },
   "source": [
    "### Рассмотрим кластеризацию на одном из больших кластеров"
   ]
  },
  {
   "cell_type": "code",
   "execution_count": 309,
   "metadata": {
    "collapsed": false,
    "slideshow": {
     "slide_type": "-"
    }
   },
   "outputs": [
    {
     "data": {
      "text/html": [
       "<div>\n",
       "<table border=\"1\" class=\"dataframe\">\n",
       "  <thead>\n",
       "    <tr style=\"text-align: right;\">\n",
       "      <th></th>\n",
       "      <th>author</th>\n",
       "      <th>name</th>\n",
       "    </tr>\n",
       "  </thead>\n",
       "  <tbody>\n",
       "    <tr>\n",
       "      <th>0</th>\n",
       "      <td>Алексеев Сергей Петрович</td>\n",
       "      <td>Собрание сочинений</td>\n",
       "    </tr>\n",
       "    <tr>\n",
       "      <th>1</th>\n",
       "      <td>Богров, Григорий Исаакович</td>\n",
       "      <td>Собрание сочинений :</td>\n",
       "    </tr>\n",
       "    <tr>\n",
       "      <th>2</th>\n",
       "      <td>None</td>\n",
       "      <td>Собрание сочинений</td>\n",
       "    </tr>\n",
       "    <tr>\n",
       "      <th>3</th>\n",
       "      <td>None</td>\n",
       "      <td>Собрание сочинений</td>\n",
       "    </tr>\n",
       "    <tr>\n",
       "      <th>4</th>\n",
       "      <td>None</td>\n",
       "      <td>Собрание сочинений</td>\n",
       "    </tr>\n",
       "    <tr>\n",
       "      <th>5</th>\n",
       "      <td>None</td>\n",
       "      <td>Собрание сочинений</td>\n",
       "    </tr>\n",
       "    <tr>\n",
       "      <th>6</th>\n",
       "      <td>None</td>\n",
       "      <td>Собрание сочинений</td>\n",
       "    </tr>\n",
       "    <tr>\n",
       "      <th>7</th>\n",
       "      <td>None</td>\n",
       "      <td>Собрание сочинений</td>\n",
       "    </tr>\n",
       "    <tr>\n",
       "      <th>8</th>\n",
       "      <td>None</td>\n",
       "      <td>Собрание сочинений</td>\n",
       "    </tr>\n",
       "    <tr>\n",
       "      <th>9</th>\n",
       "      <td>None</td>\n",
       "      <td>Собрание сочинений</td>\n",
       "    </tr>\n",
       "    <tr>\n",
       "      <th>10</th>\n",
       "      <td>None</td>\n",
       "      <td>Собрание сочинений</td>\n",
       "    </tr>\n",
       "    <tr>\n",
       "      <th>11</th>\n",
       "      <td>None</td>\n",
       "      <td>Собрание сочинений</td>\n",
       "    </tr>\n",
       "    <tr>\n",
       "      <th>12</th>\n",
       "      <td>None</td>\n",
       "      <td>Собрание сочинений</td>\n",
       "    </tr>\n",
       "    <tr>\n",
       "      <th>13</th>\n",
       "      <td>None</td>\n",
       "      <td>Собрание сочинений</td>\n",
       "    </tr>\n",
       "    <tr>\n",
       "      <th>14</th>\n",
       "      <td>None</td>\n",
       "      <td>Собрание сочинений</td>\n",
       "    </tr>\n",
       "    <tr>\n",
       "      <th>15</th>\n",
       "      <td>Бунин И.</td>\n",
       "      <td>Собрание сочинений</td>\n",
       "    </tr>\n",
       "    <tr>\n",
       "      <th>16</th>\n",
       "      <td>None</td>\n",
       "      <td>Собрание сочинений</td>\n",
       "    </tr>\n",
       "    <tr>\n",
       "      <th>17</th>\n",
       "      <td>None</td>\n",
       "      <td>Собрание сочинений</td>\n",
       "    </tr>\n",
       "    <tr>\n",
       "      <th>18</th>\n",
       "      <td>None</td>\n",
       "      <td>Собрание сочинений</td>\n",
       "    </tr>\n",
       "    <tr>\n",
       "      <th>19</th>\n",
       "      <td>None</td>\n",
       "      <td>Собрание сочинений</td>\n",
       "    </tr>\n",
       "    <tr>\n",
       "      <th>20</th>\n",
       "      <td>Вольнов, Иван</td>\n",
       "      <td>Собрание сочинений</td>\n",
       "    </tr>\n",
       "    <tr>\n",
       "      <th>21</th>\n",
       "      <td>None</td>\n",
       "      <td>СОБРАНИЕ СОЧИНЕНИЙ</td>\n",
       "    </tr>\n",
       "    <tr>\n",
       "      <th>22</th>\n",
       "      <td>None</td>\n",
       "      <td>Собрание сочинений</td>\n",
       "    </tr>\n",
       "    <tr>\n",
       "      <th>23</th>\n",
       "      <td>None</td>\n",
       "      <td>Собрание сочинений</td>\n",
       "    </tr>\n",
       "    <tr>\n",
       "      <th>24</th>\n",
       "      <td>None</td>\n",
       "      <td>Собрание сочинений</td>\n",
       "    </tr>\n",
       "    <tr>\n",
       "      <th>25</th>\n",
       "      <td>None</td>\n",
       "      <td>Собрание сочинений</td>\n",
       "    </tr>\n",
       "    <tr>\n",
       "      <th>26</th>\n",
       "      <td>None</td>\n",
       "      <td>Собрание сочинений</td>\n",
       "    </tr>\n",
       "    <tr>\n",
       "      <th>27</th>\n",
       "      <td>None</td>\n",
       "      <td>Собрание сочинений</td>\n",
       "    </tr>\n",
       "    <tr>\n",
       "      <th>28</th>\n",
       "      <td>None</td>\n",
       "      <td>Собрание сочинений</td>\n",
       "    </tr>\n",
       "    <tr>\n",
       "      <th>29</th>\n",
       "      <td>None</td>\n",
       "      <td>Собрание сочинений</td>\n",
       "    </tr>\n",
       "    <tr>\n",
       "      <th>...</th>\n",
       "      <td>...</td>\n",
       "      <td>...</td>\n",
       "    </tr>\n",
       "    <tr>\n",
       "      <th>652</th>\n",
       "      <td>None</td>\n",
       "      <td>Собрание сочинений</td>\n",
       "    </tr>\n",
       "    <tr>\n",
       "      <th>653</th>\n",
       "      <td>Довженко</td>\n",
       "      <td>Собрание сочинений</td>\n",
       "    </tr>\n",
       "    <tr>\n",
       "      <th>654</th>\n",
       "      <td>None</td>\n",
       "      <td>Собрание сочинений</td>\n",
       "    </tr>\n",
       "    <tr>\n",
       "      <th>655</th>\n",
       "      <td>Гоголь Н.В.</td>\n",
       "      <td>Собрание сочинений</td>\n",
       "    </tr>\n",
       "    <tr>\n",
       "      <th>656</th>\n",
       "      <td>None</td>\n",
       "      <td>Собрание сочинений</td>\n",
       "    </tr>\n",
       "    <tr>\n",
       "      <th>657</th>\n",
       "      <td>None</td>\n",
       "      <td>Собрание сочинений</td>\n",
       "    </tr>\n",
       "    <tr>\n",
       "      <th>658</th>\n",
       "      <td>None</td>\n",
       "      <td>Собрание сочинений</td>\n",
       "    </tr>\n",
       "    <tr>\n",
       "      <th>659</th>\n",
       "      <td>None</td>\n",
       "      <td>Собрание сочинений</td>\n",
       "    </tr>\n",
       "    <tr>\n",
       "      <th>660</th>\n",
       "      <td>None</td>\n",
       "      <td>Собрание сочинений</td>\n",
       "    </tr>\n",
       "    <tr>\n",
       "      <th>661</th>\n",
       "      <td>Зудерман, Герман</td>\n",
       "      <td>Собрание сочинений</td>\n",
       "    </tr>\n",
       "    <tr>\n",
       "      <th>662</th>\n",
       "      <td>None</td>\n",
       "      <td>Собрание сочинений</td>\n",
       "    </tr>\n",
       "    <tr>\n",
       "      <th>663</th>\n",
       "      <td>None</td>\n",
       "      <td>Собрание сочинений</td>\n",
       "    </tr>\n",
       "    <tr>\n",
       "      <th>664</th>\n",
       "      <td>Марриет Ф.</td>\n",
       "      <td>Собрание сочинений</td>\n",
       "    </tr>\n",
       "    <tr>\n",
       "      <th>665</th>\n",
       "      <td>None</td>\n",
       "      <td>Собрание сочинений</td>\n",
       "    </tr>\n",
       "    <tr>\n",
       "      <th>666</th>\n",
       "      <td>None</td>\n",
       "      <td>Собрание сочинений</td>\n",
       "    </tr>\n",
       "    <tr>\n",
       "      <th>667</th>\n",
       "      <td>None</td>\n",
       "      <td>Собрание сочинений</td>\n",
       "    </tr>\n",
       "    <tr>\n",
       "      <th>668</th>\n",
       "      <td>None</td>\n",
       "      <td>Собрание сочинений</td>\n",
       "    </tr>\n",
       "    <tr>\n",
       "      <th>669</th>\n",
       "      <td>None</td>\n",
       "      <td>Собрание сочинений</td>\n",
       "    </tr>\n",
       "    <tr>\n",
       "      <th>670</th>\n",
       "      <td>None</td>\n",
       "      <td>Собрание сочинений</td>\n",
       "    </tr>\n",
       "    <tr>\n",
       "      <th>671</th>\n",
       "      <td>Закруткин</td>\n",
       "      <td>Собрание сочинений</td>\n",
       "    </tr>\n",
       "    <tr>\n",
       "      <th>672</th>\n",
       "      <td>None</td>\n",
       "      <td>Собрание сочинений</td>\n",
       "    </tr>\n",
       "    <tr>\n",
       "      <th>673</th>\n",
       "      <td>None</td>\n",
       "      <td>СОБРАНИЕ СОЧИНЕНИЙ</td>\n",
       "    </tr>\n",
       "    <tr>\n",
       "      <th>674</th>\n",
       "      <td>None</td>\n",
       "      <td>Собрание сочинений</td>\n",
       "    </tr>\n",
       "    <tr>\n",
       "      <th>675</th>\n",
       "      <td>Предисл. А.В. Луначарского</td>\n",
       "      <td>Собрание сочинений</td>\n",
       "    </tr>\n",
       "    <tr>\n",
       "      <th>676</th>\n",
       "      <td>None</td>\n",
       "      <td>Собрание сочинений</td>\n",
       "    </tr>\n",
       "    <tr>\n",
       "      <th>677</th>\n",
       "      <td>Тургенев И.С.</td>\n",
       "      <td>Собрание сочинений</td>\n",
       "    </tr>\n",
       "    <tr>\n",
       "      <th>678</th>\n",
       "      <td>None</td>\n",
       "      <td>Собрание сочинений</td>\n",
       "    </tr>\n",
       "    <tr>\n",
       "      <th>679</th>\n",
       "      <td>None</td>\n",
       "      <td>Собрание сочинений</td>\n",
       "    </tr>\n",
       "    <tr>\n",
       "      <th>680</th>\n",
       "      <td>None</td>\n",
       "      <td>Собрание сочинений</td>\n",
       "    </tr>\n",
       "    <tr>\n",
       "      <th>681</th>\n",
       "      <td>Леонов Леонид Максимович</td>\n",
       "      <td>Собрание сочинений</td>\n",
       "    </tr>\n",
       "  </tbody>\n",
       "</table>\n",
       "<p>682 rows × 2 columns</p>\n",
       "</div>"
      ],
      "text/plain": [
       "                         author                  name\n",
       "0      Алексеев Сергей Петрович    Собрание сочинений\n",
       "1    Богров, Григорий Исаакович  Собрание сочинений :\n",
       "2                          None    Собрание сочинений\n",
       "3                          None    Собрание сочинений\n",
       "4                          None    Собрание сочинений\n",
       "5                          None    Собрание сочинений\n",
       "6                          None    Собрание сочинений\n",
       "7                          None    Собрание сочинений\n",
       "8                          None    Собрание сочинений\n",
       "9                          None    Собрание сочинений\n",
       "10                         None    Собрание сочинений\n",
       "11                         None    Собрание сочинений\n",
       "12                         None    Собрание сочинений\n",
       "13                         None    Собрание сочинений\n",
       "14                         None    Собрание сочинений\n",
       "15                     Бунин И.    Собрание сочинений\n",
       "16                         None    Собрание сочинений\n",
       "17                         None    Собрание сочинений\n",
       "18                         None    Собрание сочинений\n",
       "19                         None    Собрание сочинений\n",
       "20                Вольнов, Иван    Собрание сочинений\n",
       "21                         None    СОБРАНИЕ СОЧИНЕНИЙ\n",
       "22                         None    Собрание сочинений\n",
       "23                         None    Собрание сочинений\n",
       "24                         None    Собрание сочинений\n",
       "25                         None    Собрание сочинений\n",
       "26                         None    Собрание сочинений\n",
       "27                         None    Собрание сочинений\n",
       "28                         None    Собрание сочинений\n",
       "29                         None    Собрание сочинений\n",
       "..                          ...                   ...\n",
       "652                        None    Собрание сочинений\n",
       "653                    Довженко    Собрание сочинений\n",
       "654                        None    Собрание сочинений\n",
       "655                 Гоголь Н.В.    Собрание сочинений\n",
       "656                        None    Собрание сочинений\n",
       "657                        None    Собрание сочинений\n",
       "658                        None    Собрание сочинений\n",
       "659                        None    Собрание сочинений\n",
       "660                        None    Собрание сочинений\n",
       "661            Зудерман, Герман    Собрание сочинений\n",
       "662                        None    Собрание сочинений\n",
       "663                        None    Собрание сочинений\n",
       "664                  Марриет Ф.    Собрание сочинений\n",
       "665                        None    Собрание сочинений\n",
       "666                        None    Собрание сочинений\n",
       "667                        None    Собрание сочинений\n",
       "668                        None    Собрание сочинений\n",
       "669                        None    Собрание сочинений\n",
       "670                        None    Собрание сочинений\n",
       "671                   Закруткин    Собрание сочинений\n",
       "672                        None    Собрание сочинений\n",
       "673                        None    СОБРАНИЕ СОЧИНЕНИЙ\n",
       "674                        None    Собрание сочинений\n",
       "675  Предисл. А.В. Луначарского    Собрание сочинений\n",
       "676                        None    Собрание сочинений\n",
       "677               Тургенев И.С.    Собрание сочинений\n",
       "678                        None    Собрание сочинений\n",
       "679                        None    Собрание сочинений\n",
       "680                        None    Собрание сочинений\n",
       "681    Леонов Леонид Максимович    Собрание сочинений\n",
       "\n",
       "[682 rows x 2 columns]"
      ]
     },
     "execution_count": 309,
     "metadata": {},
     "output_type": "execute_result"
    }
   ],
   "source": [
    "section_sizes = get_cluster_sizes('preclusters6.txt')\n",
    "ds = get_section('180','preclusters6.txt',section_sizes)\n",
    "ds"
   ]
  },
  {
   "cell_type": "code",
   "execution_count": 310,
   "metadata": {
    "collapsed": false,
    "slideshow": {
     "slide_type": "skip"
    }
   },
   "outputs": [],
   "source": [
    "tmp = [180,\n",
    "623142,\n",
    "311276,\n",
    "316522,\n",
    "317361,\n",
    "624650,\n",
    "317409,\n",
    "625277,\n",
    "626902,\n",
    "319934,\n",
    "627003,\n",
    "325301,\n",
    "627417,\n",
    "325508,\n",
    "627768,\n",
    "326062,\n",
    "326086,\n",
    "630958,\n",
    "327227,\n",
    "631507,\n",
    "327890,\n",
    "636345,\n",
    "330608,\n",
    "637388,\n",
    "330984,\n",
    "642215,\n",
    "331792,\n",
    "646776,\n",
    "331843,\n",
    "648043,\n",
    "332040,\n",
    "648464,\n",
    "332601,\n",
    "648505,\n",
    "333119,\n",
    "648938,\n",
    "334410,\n",
    "650843,\n",
    "339999,\n",
    "650860,\n",
    "]\n"
   ]
  },
  {
   "cell_type": "markdown",
   "metadata": {
    "slideshow": {
     "slide_type": "subslide"
    }
   },
   "source": [
    "После кластеризации все в одном кластере"
   ]
  },
  {
   "cell_type": "code",
   "execution_count": 311,
   "metadata": {
    "collapsed": false,
    "slideshow": {
     "slide_type": "-"
    }
   },
   "outputs": [
    {
     "data": {
      "text/html": [
       "<div>\n",
       "<table border=\"1\" class=\"dataframe\">\n",
       "  <thead>\n",
       "    <tr style=\"text-align: right;\">\n",
       "      <th></th>\n",
       "      <th>author</th>\n",
       "      <th>name</th>\n",
       "    </tr>\n",
       "  </thead>\n",
       "  <tbody>\n",
       "    <tr>\n",
       "      <th>0</th>\n",
       "      <td>Алексеев Сергей Петрович</td>\n",
       "      <td>Собрание сочинений</td>\n",
       "    </tr>\n",
       "    <tr>\n",
       "      <th>1</th>\n",
       "      <td>None</td>\n",
       "      <td>Собрание сочинений</td>\n",
       "    </tr>\n",
       "    <tr>\n",
       "      <th>2</th>\n",
       "      <td>None</td>\n",
       "      <td>Собрание сочинений</td>\n",
       "    </tr>\n",
       "    <tr>\n",
       "      <th>3</th>\n",
       "      <td>None</td>\n",
       "      <td>Собрание сочинений</td>\n",
       "    </tr>\n",
       "    <tr>\n",
       "      <th>4</th>\n",
       "      <td>None</td>\n",
       "      <td>Собрание сочинений</td>\n",
       "    </tr>\n",
       "    <tr>\n",
       "      <th>5</th>\n",
       "      <td>Верн Жюль</td>\n",
       "      <td>Собрание сочинений</td>\n",
       "    </tr>\n",
       "    <tr>\n",
       "      <th>6</th>\n",
       "      <td>None</td>\n",
       "      <td>Собрание сочинений</td>\n",
       "    </tr>\n",
       "    <tr>\n",
       "      <th>7</th>\n",
       "      <td>None</td>\n",
       "      <td>Собрание сочинений</td>\n",
       "    </tr>\n",
       "    <tr>\n",
       "      <th>8</th>\n",
       "      <td>None</td>\n",
       "      <td>Собрание сочинений</td>\n",
       "    </tr>\n",
       "    <tr>\n",
       "      <th>9</th>\n",
       "      <td>Вл. Ленский</td>\n",
       "      <td>Собрание сочинений</td>\n",
       "    </tr>\n",
       "    <tr>\n",
       "      <th>10</th>\n",
       "      <td>None</td>\n",
       "      <td>Собрание сочинений</td>\n",
       "    </tr>\n",
       "    <tr>\n",
       "      <th>11</th>\n",
       "      <td>None</td>\n",
       "      <td>Собрание сочинений</td>\n",
       "    </tr>\n",
       "    <tr>\n",
       "      <th>12</th>\n",
       "      <td>None</td>\n",
       "      <td>Собрание сочинений</td>\n",
       "    </tr>\n",
       "    <tr>\n",
       "      <th>13</th>\n",
       "      <td>None</td>\n",
       "      <td>Собрание сочинений</td>\n",
       "    </tr>\n",
       "    <tr>\n",
       "      <th>14</th>\n",
       "      <td>None</td>\n",
       "      <td>Собрание сочинений</td>\n",
       "    </tr>\n",
       "    <tr>\n",
       "      <th>15</th>\n",
       "      <td>None</td>\n",
       "      <td>Собрание сочинений</td>\n",
       "    </tr>\n",
       "    <tr>\n",
       "      <th>16</th>\n",
       "      <td>None</td>\n",
       "      <td>Собрание сочинений</td>\n",
       "    </tr>\n",
       "    <tr>\n",
       "      <th>17</th>\n",
       "      <td>None</td>\n",
       "      <td>Собрание сочинений</td>\n",
       "    </tr>\n",
       "    <tr>\n",
       "      <th>18</th>\n",
       "      <td>None</td>\n",
       "      <td>Собрание сочинений</td>\n",
       "    </tr>\n",
       "    <tr>\n",
       "      <th>19</th>\n",
       "      <td>Есенин Сергей Александрович</td>\n",
       "      <td>Собрание сочинений</td>\n",
       "    </tr>\n",
       "    <tr>\n",
       "      <th>20</th>\n",
       "      <td>None</td>\n",
       "      <td>СОБРАНИЕ СОЧИНЕНИЙ</td>\n",
       "    </tr>\n",
       "    <tr>\n",
       "      <th>21</th>\n",
       "      <td>None</td>\n",
       "      <td>Собрание сочинений</td>\n",
       "    </tr>\n",
       "    <tr>\n",
       "      <th>22</th>\n",
       "      <td>None</td>\n",
       "      <td>Собрание сочинений</td>\n",
       "    </tr>\n",
       "    <tr>\n",
       "      <th>23</th>\n",
       "      <td>None</td>\n",
       "      <td>Собрание сочинений</td>\n",
       "    </tr>\n",
       "    <tr>\n",
       "      <th>24</th>\n",
       "      <td>None</td>\n",
       "      <td>Собрание сочинений</td>\n",
       "    </tr>\n",
       "    <tr>\n",
       "      <th>25</th>\n",
       "      <td>None</td>\n",
       "      <td>Собрание сочинений</td>\n",
       "    </tr>\n",
       "    <tr>\n",
       "      <th>26</th>\n",
       "      <td>None</td>\n",
       "      <td>Собрание сочинений</td>\n",
       "    </tr>\n",
       "    <tr>\n",
       "      <th>27</th>\n",
       "      <td>Хайнлайн Р.</td>\n",
       "      <td>Собрание сочинений</td>\n",
       "    </tr>\n",
       "    <tr>\n",
       "      <th>28</th>\n",
       "      <td>None</td>\n",
       "      <td>Собрание сочинений</td>\n",
       "    </tr>\n",
       "    <tr>\n",
       "      <th>29</th>\n",
       "      <td>None</td>\n",
       "      <td>Собрание сочинений</td>\n",
       "    </tr>\n",
       "    <tr>\n",
       "      <th>30</th>\n",
       "      <td>None</td>\n",
       "      <td>Собрание сочинений</td>\n",
       "    </tr>\n",
       "    <tr>\n",
       "      <th>31</th>\n",
       "      <td>None</td>\n",
       "      <td>Собрание сочинений</td>\n",
       "    </tr>\n",
       "    <tr>\n",
       "      <th>32</th>\n",
       "      <td>None</td>\n",
       "      <td>Собрание сочинений</td>\n",
       "    </tr>\n",
       "    <tr>\n",
       "      <th>33</th>\n",
       "      <td>Алданов</td>\n",
       "      <td>СОБРАНИЕ СОЧИНЕНИЙ</td>\n",
       "    </tr>\n",
       "    <tr>\n",
       "      <th>34</th>\n",
       "      <td>None</td>\n",
       "      <td>Собрание сочинений</td>\n",
       "    </tr>\n",
       "    <tr>\n",
       "      <th>35</th>\n",
       "      <td>None</td>\n",
       "      <td>Собрание сочинений</td>\n",
       "    </tr>\n",
       "    <tr>\n",
       "      <th>36</th>\n",
       "      <td>None</td>\n",
       "      <td>Собрание сочинений</td>\n",
       "    </tr>\n",
       "    <tr>\n",
       "      <th>37</th>\n",
       "      <td>None</td>\n",
       "      <td>Собрание сочинений</td>\n",
       "    </tr>\n",
       "    <tr>\n",
       "      <th>38</th>\n",
       "      <td>None</td>\n",
       "      <td>Собрание сочинений</td>\n",
       "    </tr>\n",
       "    <tr>\n",
       "      <th>39</th>\n",
       "      <td>None</td>\n",
       "      <td>Собрание сочинений</td>\n",
       "    </tr>\n",
       "  </tbody>\n",
       "</table>\n",
       "</div>"
      ],
      "text/plain": [
       "                         author                name\n",
       "0      Алексеев Сергей Петрович  Собрание сочинений\n",
       "1                          None  Собрание сочинений\n",
       "2                          None  Собрание сочинений\n",
       "3                          None  Собрание сочинений\n",
       "4                          None  Собрание сочинений\n",
       "5                     Верн Жюль  Собрание сочинений\n",
       "6                          None  Собрание сочинений\n",
       "7                          None  Собрание сочинений\n",
       "8                          None  Собрание сочинений\n",
       "9                   Вл. Ленский  Собрание сочинений\n",
       "10                         None  Собрание сочинений\n",
       "11                         None  Собрание сочинений\n",
       "12                         None  Собрание сочинений\n",
       "13                         None  Собрание сочинений\n",
       "14                         None  Собрание сочинений\n",
       "15                         None  Собрание сочинений\n",
       "16                         None  Собрание сочинений\n",
       "17                         None  Собрание сочинений\n",
       "18                         None  Собрание сочинений\n",
       "19  Есенин Сергей Александрович  Собрание сочинений\n",
       "20                         None  СОБРАНИЕ СОЧИНЕНИЙ\n",
       "21                         None  Собрание сочинений\n",
       "22                         None  Собрание сочинений\n",
       "23                         None  Собрание сочинений\n",
       "24                         None  Собрание сочинений\n",
       "25                         None  Собрание сочинений\n",
       "26                         None  Собрание сочинений\n",
       "27                  Хайнлайн Р.  Собрание сочинений\n",
       "28                         None  Собрание сочинений\n",
       "29                         None  Собрание сочинений\n",
       "30                         None  Собрание сочинений\n",
       "31                         None  Собрание сочинений\n",
       "32                         None  Собрание сочинений\n",
       "33                      Алданов  СОБРАНИЕ СОЧИНЕНИЙ\n",
       "34                         None  Собрание сочинений\n",
       "35                         None  Собрание сочинений\n",
       "36                         None  Собрание сочинений\n",
       "37                         None  Собрание сочинений\n",
       "38                         None  Собрание сочинений\n",
       "39                         None  Собрание сочинений"
      ]
     },
     "execution_count": 311,
     "metadata": {},
     "output_type": "execute_result"
    }
   ],
   "source": [
    "get_data_from_idset(tmp)"
   ]
  },
  {
   "cell_type": "markdown",
   "metadata": {
    "slideshow": {
     "slide_type": "subslide"
    }
   },
   "source": [
    "### Рассмотрим на примере кластеров меньшего размера"
   ]
  },
  {
   "cell_type": "code",
   "execution_count": 11,
   "metadata": {
    "collapsed": false
   },
   "outputs": [
    {
     "name": "stdout",
     "output_type": "stream",
     "text": [
      "Предкластер:\n"
     ]
    },
    {
     "data": {
      "text/html": [
       "<div>\n",
       "<table border=\"1\" class=\"dataframe\">\n",
       "  <thead>\n",
       "    <tr style=\"text-align: right;\">\n",
       "      <th></th>\n",
       "      <th>author</th>\n",
       "      <th>name</th>\n",
       "    </tr>\n",
       "  </thead>\n",
       "  <tbody>\n",
       "    <tr>\n",
       "      <th>0</th>\n",
       "      <td>Гордеев Владимир Ильич</td>\n",
       "      <td>Практикум по инфузионной терапии при неотложны...</td>\n",
       "    </tr>\n",
       "    <tr>\n",
       "      <th>1</th>\n",
       "      <td>Богдарин Андрей Юрьевич</td>\n",
       "      <td>Буквы в азбуке</td>\n",
       "    </tr>\n",
       "    <tr>\n",
       "      <th>2</th>\n",
       "      <td>None</td>\n",
       "      <td>О замене пеленок бумагой в физическом воспитан...</td>\n",
       "    </tr>\n",
       "    <tr>\n",
       "      <th>3</th>\n",
       "      <td>None</td>\n",
       "      <td>Христианский Восток : Серия, посвященная изуче...</td>\n",
       "    </tr>\n",
       "    <tr>\n",
       "      <th>4</th>\n",
       "      <td>None</td>\n",
       "      <td>Советский Союз на международных конференциях п...</td>\n",
       "    </tr>\n",
       "    <tr>\n",
       "      <th>5</th>\n",
       "      <td>None</td>\n",
       "      <td>Слово, сказанное в церкви Киево-Братского мона...</td>\n",
       "    </tr>\n",
       "    <tr>\n",
       "      <th>6</th>\n",
       "      <td>Зимин В.Н.</td>\n",
       "      <td>Новые подходы и методы в организации образоват...</td>\n",
       "    </tr>\n",
       "    <tr>\n",
       "      <th>7</th>\n",
       "      <td>None</td>\n",
       "      <td>\"Картофельный бунт\" в России и новый материал ...</td>\n",
       "    </tr>\n",
       "  </tbody>\n",
       "</table>\n",
       "</div>"
      ],
      "text/plain": [
       "                    author                                               name\n",
       "0   Гордеев Владимир Ильич  Практикум по инфузионной терапии при неотложны...\n",
       "1  Богдарин Андрей Юрьевич                                     Буквы в азбуке\n",
       "2                     None  О замене пеленок бумагой в физическом воспитан...\n",
       "3                     None  Христианский Восток : Серия, посвященная изуче...\n",
       "4                     None  Советский Союз на международных конференциях п...\n",
       "5                     None  Слово, сказанное в церкви Киево-Братского мона...\n",
       "6               Зимин В.Н.  Новые подходы и методы в организации образоват...\n",
       "7                     None  \"Картофельный бунт\" в России и новый материал ..."
      ]
     },
     "execution_count": 11,
     "metadata": {},
     "output_type": "execute_result"
    }
   ],
   "source": [
    "section_sizes = get_cluster_sizes('preclusters6.txt')\n",
    "ds = get_section('8','preclusters6.txt',section_sizes)\n",
    "print (\"Предкластер:\")\n",
    "ds"
   ]
  },
  {
   "cell_type": "markdown",
   "metadata": {},
   "source": [
    "После кластеризации все в разных кластерах"
   ]
  },
  {
   "cell_type": "code",
   "execution_count": 282,
   "metadata": {
    "collapsed": false,
    "slideshow": {
     "slide_type": "skip"
    }
   },
   "outputs": [],
   "source": [
    "f = open('preclusters8.txt','r')\n",
    "t = open('tmp.txt','w')\n",
    "i = 0\n",
    "for line in f:\n",
    "    if line[0:2] == 'SE':\n",
    "        t.write('SecSize '+str(i)+'\\n')\n",
    "        i = 0\n",
    "    else:\n",
    "        i+=1\n",
    "    t.write(line)\n",
    "    \n",
    "f.close()\n",
    "t.close()"
   ]
  },
  {
   "cell_type": "markdown",
   "metadata": {
    "collapsed": true,
    "slideshow": {
     "slide_type": "slide"
    }
   },
   "source": [
    "## Спасибо за внимание."
   ]
  }
 ],
 "metadata": {
  "celltoolbar": "Slideshow",
  "kernelspec": {
   "display_name": "Python 2",
   "language": "python",
   "name": "python2"
  },
  "language_info": {
   "codemirror_mode": {
    "name": "ipython",
    "version": 2
   },
   "file_extension": ".py",
   "mimetype": "text/x-python",
   "name": "python",
   "nbconvert_exporter": "python",
   "pygments_lexer": "ipython2",
   "version": "2.7.12"
  }
 },
 "nbformat": 4,
 "nbformat_minor": 0
}
